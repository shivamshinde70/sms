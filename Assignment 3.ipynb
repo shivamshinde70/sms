{
 "cells": [
  {
   "cell_type": "code",
   "execution_count": 8,
   "id": "119a5a4c",
   "metadata": {},
   "outputs": [],
   "source": [
    "#Build the Image classification model by dividing the model into following 4 stages:\n",
    "#a. Loading and preprocessing the image data\n",
    "#b. Defining the model’s architecture\n",
    "#c. Training the model\n",
    "#d. Estimating the model’s performance"
   ]
  },
  {
   "cell_type": "code",
   "execution_count": 19,
   "id": "c547d0f3",
   "metadata": {},
   "outputs": [],
   "source": [
    "import numpy as np\n",
    "import cv2  #converting images into arrays\n",
    "import os #to specify location of images\n",
    "import random\n",
    "import matplotlib.pyplot as plt\n",
    "import pickle #to save the data\n",
    "import tensorflow as tf\n",
    "from tensorflow import keras\n",
    "from tensorflow.keras import Sequential\n",
    "from tensorflow.keras.layers import Dense, Flatten, Conv2D, MaxPooling2D\n"
   ]
  },
  {
   "cell_type": "code",
   "execution_count": 21,
   "id": "e13c2509",
   "metadata": {},
   "outputs": [],
   "source": [
    "directory_tr = r'C:/Users/SHIVAM/Downloads/Image-20221112T044105Z-001/Image/train'\n",
    "directory_ts = r'C:/Users/SHIVAM/Downloads/Image-20221112T044105Z-001/Image/test'\n",
    "categories = ['cat','dog']\n",
    "\n"
   ]
  },
  {
   "cell_type": "code",
   "execution_count": 24,
   "id": "4d864d0c",
   "metadata": {},
   "outputs": [],
   "source": [
    "img_size = 110\n",
    "data1 = []\n",
    "data2 = []\n"
   ]
  },
  {
   "cell_type": "code",
   "execution_count": 25,
   "id": "ea62996b",
   "metadata": {},
   "outputs": [
    {
     "ename": "FileNotFoundError",
     "evalue": "[WinError 3] The system cannot find the path specified: 'C:/Users/SHIVAM/Downloads/Image-20221112T044105Z-001/Image/train\\\\cat'",
     "output_type": "error",
     "traceback": [
      "\u001b[1;31m---------------------------------------------------------------------------\u001b[0m",
      "\u001b[1;31mFileNotFoundError\u001b[0m                         Traceback (most recent call last)",
      "\u001b[1;32m~\\AppData\\Local\\Temp/ipykernel_19096/1876863904.py\u001b[0m in \u001b[0;36m<module>\u001b[1;34m\u001b[0m\n\u001b[0;32m      2\u001b[0m     \u001b[0mfolder\u001b[0m \u001b[1;33m=\u001b[0m \u001b[0mos\u001b[0m\u001b[1;33m.\u001b[0m\u001b[0mpath\u001b[0m\u001b[1;33m.\u001b[0m\u001b[0mjoin\u001b[0m\u001b[1;33m(\u001b[0m\u001b[0mdirectory_tr\u001b[0m\u001b[1;33m,\u001b[0m\u001b[0mcateg\u001b[0m\u001b[1;33m)\u001b[0m\u001b[1;33m\u001b[0m\u001b[1;33m\u001b[0m\u001b[0m\n\u001b[0;32m      3\u001b[0m     \u001b[0mlabel\u001b[0m\u001b[1;33m=\u001b[0m \u001b[0mcategories\u001b[0m\u001b[1;33m.\u001b[0m\u001b[0mindex\u001b[0m\u001b[1;33m(\u001b[0m\u001b[0mcateg\u001b[0m\u001b[1;33m)\u001b[0m\u001b[1;33m\u001b[0m\u001b[1;33m\u001b[0m\u001b[0m\n\u001b[1;32m----> 4\u001b[1;33m     \u001b[1;32mfor\u001b[0m \u001b[0mimg\u001b[0m \u001b[1;32min\u001b[0m \u001b[0mos\u001b[0m\u001b[1;33m.\u001b[0m\u001b[0mlistdir\u001b[0m\u001b[1;33m(\u001b[0m\u001b[0mfolder\u001b[0m\u001b[1;33m)\u001b[0m\u001b[1;33m:\u001b[0m\u001b[1;33m\u001b[0m\u001b[1;33m\u001b[0m\u001b[0m\n\u001b[0m\u001b[0;32m      5\u001b[0m         \u001b[0mimg_path\u001b[0m \u001b[1;33m=\u001b[0m \u001b[0mos\u001b[0m\u001b[1;33m.\u001b[0m\u001b[0mpath\u001b[0m\u001b[1;33m.\u001b[0m\u001b[0mjoin\u001b[0m\u001b[1;33m(\u001b[0m\u001b[0mfolder\u001b[0m\u001b[1;33m,\u001b[0m \u001b[0mimg\u001b[0m\u001b[1;33m)\u001b[0m\u001b[1;33m\u001b[0m\u001b[1;33m\u001b[0m\u001b[0m\n\u001b[0;32m      6\u001b[0m         \u001b[0mimg_arr\u001b[0m\u001b[1;33m=\u001b[0m\u001b[0mcv2\u001b[0m\u001b[1;33m.\u001b[0m\u001b[0mimread\u001b[0m\u001b[1;33m(\u001b[0m\u001b[0mimg_path\u001b[0m\u001b[1;33m)\u001b[0m\u001b[1;33m\u001b[0m\u001b[1;33m\u001b[0m\u001b[0m\n",
      "\u001b[1;31mFileNotFoundError\u001b[0m: [WinError 3] The system cannot find the path specified: 'C:/Users/SHIVAM/Downloads/Image-20221112T044105Z-001/Image/train\\\\cat'"
     ]
    }
   ],
   "source": [
    "\n",
    "for categ in categories:\n",
    "    folder = os.path.join(directory_tr,categ)\n",
    "    label= categories.index(categ) \n",
    "    for img in os.listdir(folder):\n",
    "        img_path = os.path.join(folder, img)\n",
    "        img_arr=cv2.imread(img_path)\n",
    "        img_arr=cv2.resize(img_arr,(img_size,img_size))\n",
    "        data1.append([img_arr,label])\n",
    " \n",
    "for categ in categories:\n",
    "    folder = os.path.join(directory_ts,categ)\n",
    "    labels= categories.index(categ) \n",
    "    for img in os.listdir(folder):\n",
    "        img_path = os.path.join(folder, img)\n",
    "        img_arr=cv2.imread(img_path)\n",
    "        img_arr=cv2.resize(img_arr,(img_size,img_size))\n",
    "        data2.append([img_arr,labels])\n"
   ]
  },
  {
   "cell_type": "code",
   "execution_count": null,
   "id": "8b0e2864",
   "metadata": {},
   "outputs": [],
   "source": []
  }
 ],
 "metadata": {
  "kernelspec": {
   "display_name": "Python 3 (ipykernel)",
   "language": "python",
   "name": "python3"
  },
  "language_info": {
   "codemirror_mode": {
    "name": "ipython",
    "version": 3
   },
   "file_extension": ".py",
   "mimetype": "text/x-python",
   "name": "python",
   "nbconvert_exporter": "python",
   "pygments_lexer": "ipython3",
   "version": "3.9.7"
  }
 },
 "nbformat": 4,
 "nbformat_minor": 5
}
